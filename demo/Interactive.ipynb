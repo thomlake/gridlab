{
 "cells": [
  {
   "cell_type": "code",
   "execution_count": 1,
   "id": "ccbe58dd",
   "metadata": {},
   "outputs": [],
   "source": [
    "import ipywidgets as widgets\n",
    "from IPython.display import display\n",
    "\n",
    "from gridlab import Action, ViewPipeline, World, create_world, verify_all_solutions, world_names\n",
    "from gridlab.view import HTMLTableLegendView, HTMLTableStatusView, HTMLGridView"
   ]
  },
  {
   "cell_type": "code",
   "execution_count": 2,
   "id": "61361d5b",
   "metadata": {},
   "outputs": [],
   "source": [
    "STYLE  = \"\"\"\n",
    ".legend tr, .status tr, .grid tr {\n",
    "    background-color: #ffffff;\n",
    "}\n",
    "\n",
    ".legend td, .status  td {\n",
    "   border: 1px solid #000000;\n",
    "}\n",
    "\n",
    ".legend td.entity {\n",
    "    font-family: 'Source Code Pro', monospace;\n",
    "    text-align: center;\n",
    "}\n",
    "\n",
    ".status td.status-key {\n",
    "    font-weight: bold;\n",
    "}\n",
    "\n",
    ".grid td {\n",
    "    font-family: 'Source Code Pro', monospace;\n",
    "    font-size: 24px;\n",
    "    text-align: center;\n",
    "    width: 1.5em;\n",
    "    height: 1.5em;\n",
    "}\n",
    "\n",
    ".grid span {\n",
    "    font-family: 'Source Code Pro', monospace;\n",
    "    font-size: 24px;\n",
    "    line-height: 1em;\n",
    "}\n",
    "\"\"\""
   ]
  },
  {
   "cell_type": "code",
   "execution_count": 3,
   "id": "6e3f55f1",
   "metadata": {},
   "outputs": [],
   "source": [
    "class GridWorldWidget:\n",
    "    def __init__(self, world: World, pipeline: ViewPipeline):\n",
    "        self.world = world\n",
    "        self.pipeline = pipeline\n",
    "        self.views = pipeline.render(world)\n",
    "\n",
    "        # Widgets for display\n",
    "        self.legend_display = widgets.HTML(self._format_legend())\n",
    "        self.status_display = widgets.HTML(self._format_status())\n",
    "        self.grid_display = widgets.HTML(self._format_grid())\n",
    "\n",
    "        # Control buttons\n",
    "        self.up_button = widgets.Button(description='⏶', layout=widgets.Layout(width='40px'))\n",
    "        self.down_button = widgets.Button(description='⏷', layout=widgets.Layout(width='40px'))\n",
    "        self.left_button = widgets.Button(description='⏴', layout=widgets.Layout(width='40px'))\n",
    "        self.right_button = widgets.Button(description='⏵', layout=widgets.Layout(width='40px'))\n",
    "\n",
    "        # Button click callbacks\n",
    "        self.up_button.on_click(lambda _: self._on_move(Action.UP))\n",
    "        self.down_button.on_click(lambda _: self._on_move(Action.DOWN))\n",
    "        self.left_button.on_click(lambda _: self._on_move(Action.LEFT))\n",
    "        self.right_button.on_click(lambda _: self._on_move(Action.RIGHT))\n",
    "\n",
    "        # Layout\n",
    "        controls_top = widgets.HBox(\n",
    "            [self.up_button],\n",
    "            layout=widgets.Layout(\n",
    "                align_items='center',\n",
    "                justify_content='center',\n",
    "            ),\n",
    "        )\n",
    "        controls_bottom = widgets.HBox(\n",
    "            [self.left_button, self.down_button, self.right_button],\n",
    "            layout=widgets.Layout(\n",
    "                align_items='center',\n",
    "                justify_content='center',\n",
    "            ),\n",
    "        )\n",
    "        controls = widgets.VBox(\n",
    "            [controls_top, controls_bottom],\n",
    "            layout=widgets.Layout(padding='20px'),\n",
    "        )\n",
    "\n",
    "        page = widgets.VBox(\n",
    "            [\n",
    "                self.legend_display,\n",
    "                self.status_display,\n",
    "                self.grid_display,\n",
    "                controls,\n",
    "            ],\n",
    "        )\n",
    "\n",
    "        wrapper = widgets.HBox([page], layout=widgets.Layout(padding='20px'))\n",
    "        display(wrapper)\n",
    "\n",
    "    def _format_legend(self):\n",
    "        theme_style = self.pipeline.theme.css()\n",
    "        style = f'{STYLE}\\n\\n{theme_style}'\n",
    "        legend = self.views['legend']\n",
    "        return f'<style>{style}</style><div><b>Legend</b>{legend}</div>'\n",
    "\n",
    "    def _format_status(self):\n",
    "        status = self.views['status']\n",
    "        return f'<div><b>Status</b>{status}</div>'\n",
    "\n",
    "    def _format_grid(self):\n",
    "        grid = self.views['grid']\n",
    "        return f'<div><b>Grid</b>{grid}</div>'\n",
    "\n",
    "    def _on_move(self, action: Action):\n",
    "        self.world.step(action=action)\n",
    "        self.views = self.pipeline.render(self.world)\n",
    "\n",
    "        # Refresh displays in-place\n",
    "        self.legend_display.value = self._format_legend()\n",
    "        self.status_display.value = self._format_status()\n",
    "        self.grid_display.value = self._format_grid()"
   ]
  },
  {
   "cell_type": "code",
   "execution_count": 4,
   "id": "d7249bf7",
   "metadata": {},
   "outputs": [
    {
     "name": "stdout",
     "output_type": "stream",
     "text": [
      "- empty\n",
      "- demo\n",
      "- causeway\n",
      "- fog\n",
      "- spike\n",
      "- timer\n",
      "- mirror\n",
      "- mirror-block\n",
      "- mirror-block-flip\n",
      "- patrol\n",
      "- chase\n"
     ]
    }
   ],
   "source": [
    "def list_worlds(verified: bool = True):\n",
    "    if not verified:\n",
    "        names = world_names()\n",
    "    else:\n",
    "        status = verify_all_solutions(report=False)\n",
    "        names = list(status['success'].keys())\n",
    "\n",
    "    print(*(f'- {name}' for name in names), sep='\\n')\n",
    "\n",
    "\n",
    "list_worlds()"
   ]
  },
  {
   "cell_type": "code",
   "execution_count": 5,
   "id": "ed41afe0",
   "metadata": {},
   "outputs": [
    {
     "data": {
      "application/vnd.jupyter.widget-view+json": {
       "model_id": "b259c8d40e554b4e9e79aa7cbb280e1f",
       "version_major": 2,
       "version_minor": 0
      },
      "text/plain": [
       "HBox(children=(VBox(children=(HTML(value='<style>\\n.legend tr, .status tr, .grid tr {\\n    background-color: #…"
      ]
     },
     "metadata": {},
     "output_type": "display_data"
    }
   ],
   "source": [
    "def run(name: str = 'causeway'):\n",
    "    world = create_world(name)\n",
    "    pipeline = ViewPipeline(\n",
    "        {\n",
    "            'legend': HTMLTableLegendView(),\n",
    "            'status': HTMLTableStatusView(),\n",
    "            'grid': HTMLGridView(),\n",
    "        },\n",
    "        theme='desert',\n",
    "    )\n",
    "    _ = GridWorldWidget(world, pipeline=pipeline)\n",
    "\n",
    "run()"
   ]
  },
  {
   "cell_type": "code",
   "execution_count": null,
   "id": "561f693c",
   "metadata": {},
   "outputs": [],
   "source": []
  },
  {
   "cell_type": "code",
   "execution_count": null,
   "id": "bdc91bde",
   "metadata": {},
   "outputs": [],
   "source": []
  }
 ],
 "metadata": {
  "kernelspec": {
   "display_name": "int-learn",
   "language": "python",
   "name": "python3"
  },
  "language_info": {
   "codemirror_mode": {
    "name": "ipython",
    "version": 3
   },
   "file_extension": ".py",
   "mimetype": "text/x-python",
   "name": "python",
   "nbconvert_exporter": "python",
   "pygments_lexer": "ipython3",
   "version": "3.12.11"
  }
 },
 "nbformat": 4,
 "nbformat_minor": 5
}
